{
 "cells": [
  {
   "cell_type": "code",
   "execution_count": 1,
   "metadata": {},
   "outputs": [],
   "source": [
    "import numpy as np"
   ]
  },
  {
   "cell_type": "code",
   "execution_count": 30,
   "metadata": {},
   "outputs": [
    {
     "data": {
      "text/plain": [
       "[15556,\n",
       " 18785,\n",
       " 17367,\n",
       " 15110,\n",
       " 18369,\n",
       " 18064,\n",
       " 16358,\n",
       " 15264,\n",
       " 14636,\n",
       " 17053,\n",
       " 17817,\n",
       " 18687,\n",
       " 15265,\n",
       " 17955,\n",
       " 16093,\n",
       " 16319,\n",
       " 17982,\n",
       " 18099,\n",
       " 15172,\n",
       " 18633,\n",
       " 17544,\n",
       " 14954,\n",
       " 18220,\n",
       " 15457,\n",
       " 17617,\n",
       " 15399,\n",
       " 16922,\n",
       " 17328,\n",
       " 15442,\n",
       " 17317,\n",
       " 16501,\n",
       " 16173,\n",
       " 15727,\n",
       " 16055,\n",
       " 17223,\n",
       " 15932,\n",
       " 17789,\n",
       " 14780,\n",
       " 16843,\n",
       " 17701,\n",
       " 16920,\n",
       " 17145,\n",
       " 18172,\n",
       " 17182,\n",
       " 15619,\n",
       " 18772,\n",
       " 15565,\n",
       " 16187,\n",
       " 18482,\n",
       " 15056]"
      ]
     },
     "execution_count": 30,
     "metadata": {},
     "output_type": "execute_result"
    }
   ],
   "source": [
    "randomlist = []\n",
    "for i in range(0,50):\n",
    "    n = np.random.randint(14566,18910)\n",
    "    randomlist.append(n)\n",
    "randomlist"
   ]
  }
 ],
 "metadata": {
  "kernelspec": {
   "display_name": "Python 3",
   "language": "python",
   "name": "python3"
  },
  "language_info": {
   "codemirror_mode": {
    "name": "ipython",
    "version": 3
   },
   "file_extension": ".py",
   "mimetype": "text/x-python",
   "name": "python",
   "nbconvert_exporter": "python",
   "pygments_lexer": "ipython3",
   "version": "3.8.3"
  }
 },
 "nbformat": 4,
 "nbformat_minor": 4
}
